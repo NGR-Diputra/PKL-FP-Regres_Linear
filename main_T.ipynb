{
 "cells": [
  {
   "cell_type": "code",
   "execution_count": 245,
   "metadata": {},
   "outputs": [],
   "source": [
    "import pandas as pd\n",
    "import numpy as np\n",
    "from sklearn.model_selection import train_test_split\n",
    "from sklearn.metrics import mean_squared_error, r2_score"
   ]
  },
  {
   "cell_type": "markdown",
   "metadata": {},
   "source": [
    "## **1. Akses Dataset**\n",
    "\n",
    "Akses dataset serangan hama dengan 7 jenis hama berbeda yang disertai kategori :\n",
    "\n",
    "(T) -> jumlah area yang terkena serangan\n",
    "\n",
    "(P) -> jumlah area yang mengalami kerusakan lebih dari 75%"
   ]
  },
  {
   "cell_type": "code",
   "execution_count": 246,
   "metadata": {},
   "outputs": [],
   "source": [
    "dataset_dir = \"src\\\\penerapan-pengelolaan-hama-terpadu-tanaman-pangan.xlsx\""
   ]
  },
  {
   "cell_type": "code",
   "execution_count": 247,
   "metadata": {},
   "outputs": [
    {
     "data": {
      "text/plain": [
       "['padi',\n",
       " 'jagung',\n",
       " 'kedelai',\n",
       " 'kacang tanah',\n",
       " 'kacang hijau',\n",
       " 'ubi kayu',\n",
       " 'ubi jalar']"
      ]
     },
     "execution_count": 247,
     "metadata": {},
     "output_type": "execute_result"
    }
   ],
   "source": [
    "df = pd.ExcelFile(dataset_dir)\n",
    "\n",
    "# Akses tiap halaman pada dataset (jika ada)\n",
    "df.sheet_names"
   ]
  },
  {
   "cell_type": "code",
   "execution_count": 248,
   "metadata": {},
   "outputs": [
    {
     "data": {
      "text/html": [
       "<div>\n",
       "<style scoped>\n",
       "    .dataframe tbody tr th:only-of-type {\n",
       "        vertical-align: middle;\n",
       "    }\n",
       "\n",
       "    .dataframe tbody tr th {\n",
       "        vertical-align: top;\n",
       "    }\n",
       "\n",
       "    .dataframe thead th {\n",
       "        text-align: right;\n",
       "    }\n",
       "</style>\n",
       "<table border=\"1\" class=\"dataframe\">\n",
       "  <thead>\n",
       "    <tr style=\"text-align: right;\">\n",
       "      <th></th>\n",
       "      <th>TAHUN</th>\n",
       "      <th>NO PROV</th>\n",
       "      <th>PROV</th>\n",
       "      <th>PENGGEREK BATANG PADI</th>\n",
       "      <th>Unnamed: 4</th>\n",
       "      <th>WBC</th>\n",
       "      <th>Unnamed: 6</th>\n",
       "      <th>TIKUS</th>\n",
       "      <th>Unnamed: 8</th>\n",
       "      <th>BLAS</th>\n",
       "      <th>Unnamed: 10</th>\n",
       "      <th>KRESEK</th>\n",
       "      <th>Unnamed: 12</th>\n",
       "      <th>TUNGRO</th>\n",
       "      <th>Unnamed: 14</th>\n",
       "      <th>KR/KH</th>\n",
       "      <th>Unnamed: 16</th>\n",
       "      <th>TOTAL OPUT</th>\n",
       "      <th>Unnamed: 18</th>\n",
       "    </tr>\n",
       "  </thead>\n",
       "  <tbody>\n",
       "    <tr>\n",
       "      <th>0</th>\n",
       "      <td>NaN</td>\n",
       "      <td>NaN</td>\n",
       "      <td>NaN</td>\n",
       "      <td>T</td>\n",
       "      <td>P</td>\n",
       "      <td>T</td>\n",
       "      <td>P</td>\n",
       "      <td>T</td>\n",
       "      <td>P</td>\n",
       "      <td>T</td>\n",
       "      <td>P</td>\n",
       "      <td>T</td>\n",
       "      <td>P</td>\n",
       "      <td>T</td>\n",
       "      <td>P</td>\n",
       "      <td>T</td>\n",
       "      <td>P</td>\n",
       "      <td>T</td>\n",
       "      <td>P</td>\n",
       "    </tr>\n",
       "    <tr>\n",
       "      <th>1</th>\n",
       "      <td>2018</td>\n",
       "      <td>1.0</td>\n",
       "      <td>Aceh</td>\n",
       "      <td>2818.7</td>\n",
       "      <td>0</td>\n",
       "      <td>2663.48</td>\n",
       "      <td>95.25</td>\n",
       "      <td>2722.45</td>\n",
       "      <td>0</td>\n",
       "      <td>1409</td>\n",
       "      <td>0</td>\n",
       "      <td>2738</td>\n",
       "      <td>0</td>\n",
       "      <td>0</td>\n",
       "      <td>0</td>\n",
       "      <td>0</td>\n",
       "      <td>0</td>\n",
       "      <td>12351.63</td>\n",
       "      <td>95.25</td>\n",
       "    </tr>\n",
       "    <tr>\n",
       "      <th>2</th>\n",
       "      <td>2018</td>\n",
       "      <td>2.0</td>\n",
       "      <td>Sumatera Utara</td>\n",
       "      <td>1799.0</td>\n",
       "      <td>0</td>\n",
       "      <td>478.56</td>\n",
       "      <td>3.18</td>\n",
       "      <td>2030.15</td>\n",
       "      <td>22.5</td>\n",
       "      <td>3042.95</td>\n",
       "      <td>0</td>\n",
       "      <td>1831.5</td>\n",
       "      <td>0</td>\n",
       "      <td>35.1</td>\n",
       "      <td>0</td>\n",
       "      <td>68.4</td>\n",
       "      <td>0</td>\n",
       "      <td>9285.66</td>\n",
       "      <td>25.68</td>\n",
       "    </tr>\n",
       "    <tr>\n",
       "      <th>3</th>\n",
       "      <td>2018</td>\n",
       "      <td>3.0</td>\n",
       "      <td>Sumatera Barat</td>\n",
       "      <td>116.15</td>\n",
       "      <td>0</td>\n",
       "      <td>430.7</td>\n",
       "      <td>11.6</td>\n",
       "      <td>2044.21</td>\n",
       "      <td>136.25</td>\n",
       "      <td>465.01</td>\n",
       "      <td>14.05</td>\n",
       "      <td>31.25</td>\n",
       "      <td>0.5</td>\n",
       "      <td>104.85</td>\n",
       "      <td>5.25</td>\n",
       "      <td>57.45</td>\n",
       "      <td>14.5</td>\n",
       "      <td>3249.62</td>\n",
       "      <td>182.15</td>\n",
       "    </tr>\n",
       "    <tr>\n",
       "      <th>4</th>\n",
       "      <td>2018</td>\n",
       "      <td>4.0</td>\n",
       "      <td>Riau</td>\n",
       "      <td>952.9</td>\n",
       "      <td>0</td>\n",
       "      <td>435.35</td>\n",
       "      <td>0</td>\n",
       "      <td>658.25</td>\n",
       "      <td>1</td>\n",
       "      <td>485.65</td>\n",
       "      <td>0</td>\n",
       "      <td>117.55</td>\n",
       "      <td>0</td>\n",
       "      <td>25</td>\n",
       "      <td>0</td>\n",
       "      <td>NaN</td>\n",
       "      <td>NaN</td>\n",
       "      <td>2674.7</td>\n",
       "      <td>1</td>\n",
       "    </tr>\n",
       "  </tbody>\n",
       "</table>\n",
       "</div>"
      ],
      "text/plain": [
       "  TAHUN  NO PROV            PROV PENGGEREK BATANG PADI Unnamed: 4      WBC   \n",
       "0   NaN      NaN             NaN                     T          P        T  \\\n",
       "1  2018      1.0            Aceh                2818.7          0  2663.48   \n",
       "2  2018      2.0  Sumatera Utara                1799.0          0   478.56   \n",
       "3  2018      3.0  Sumatera Barat                116.15          0    430.7   \n",
       "4  2018      4.0            Riau                 952.9          0   435.35   \n",
       "\n",
       "  Unnamed: 6    TIKUS Unnamed: 8     BLAS Unnamed: 10  KRESEK Unnamed: 12   \n",
       "0          P        T          P        T           P       T           P  \\\n",
       "1      95.25  2722.45          0     1409           0    2738           0   \n",
       "2       3.18  2030.15       22.5  3042.95           0  1831.5           0   \n",
       "3       11.6  2044.21     136.25   465.01       14.05   31.25         0.5   \n",
       "4          0   658.25          1   485.65           0  117.55           0   \n",
       "\n",
       "   TUNGRO Unnamed: 14  KR/KH Unnamed: 16 TOTAL OPUT Unnamed: 18  \n",
       "0       T           P      T           P          T           P  \n",
       "1       0           0      0           0   12351.63       95.25  \n",
       "2    35.1           0   68.4           0    9285.66       25.68  \n",
       "3  104.85        5.25  57.45        14.5    3249.62      182.15  \n",
       "4      25           0    NaN         NaN     2674.7           1  "
      ]
     },
     "execution_count": 248,
     "metadata": {},
     "output_type": "execute_result"
    }
   ],
   "source": [
    "# Load data untuk halaman tertentu & tampilkan\n",
    "data = df.parse('padi')\n",
    "data.head()"
   ]
  },
  {
   "cell_type": "markdown",
   "metadata": {},
   "source": [
    "## **2. Preprocessing Data**\n",
    "\n",
    "Membersihkan dataset dan mempersiapkan untuk dilakukan regresi linear :\n",
    "\n",
    "- Perbaiki header\n",
    "\n",
    "- Isi kolom -, null, nan, dengan nilai 0\n",
    "\n",
    "- Pilih kolom/baris yang ingin digunakan dalam sistem"
   ]
  },
  {
   "cell_type": "code",
   "execution_count": 249,
   "metadata": {},
   "outputs": [
    {
     "name": "stderr",
     "output_type": "stream",
     "text": [
      "C:\\Users\\Diputra_W\\AppData\\Local\\Temp\\ipykernel_32252\\716239667.py:28: SettingWithCopyWarning: \n",
      "A value is trying to be set on a copy of a slice from a DataFrame.\n",
      "Try using .loc[row_indexer,col_indexer] = value instead\n",
      "\n",
      "See the caveats in the documentation: https://pandas.pydata.org/pandas-docs/stable/user_guide/indexing.html#returning-a-view-versus-a-copy\n",
      "  data_T['TAHUN'] = pd.to_numeric(data_T['TAHUN'], errors='coerce')\n"
     ]
    }
   ],
   "source": [
    "# Perbaikan header data\n",
    "data = pd.read_excel(dataset_dir, sheet_name=\"padi\", header=[0, 1])\n",
    "data.columns = [\" \".join(col).strip() for col in data.columns.values]\n",
    "\n",
    "# Cleaning kolom data\n",
    "data.columns = data.columns.str.strip()\n",
    "data.columns = data.columns.str.replace(\" \", \"_\")\n",
    "data.columns = data.columns.str.replace(\"/\", \"_\")\n",
    "data.columns = data.columns.str.replace(\"-\", \"_\")\n",
    "\n",
    "# Ganti nama kolom (tujuan untuk mempermudah proses kedepannya)\n",
    "data.rename(columns={\n",
    "    \"TAHUN_Unnamed:_0_level_1\": \"TAHUN\",\n",
    "    \"NO_PROV_Unnamed:_1_level_1\": \"KODE_PROVINSI\",\n",
    "    \"PROV_Unnamed:_2_level_1\": \"PROVINSI\",\n",
    "}, inplace=True)\n",
    "\n",
    "# Penanganan missing values\n",
    "data.fillna(0, inplace=True)\n",
    "\n",
    "# Menghilangkan baris yang tidak diperlukan\n",
    "rows_to_drop = [34, 69, 104, 139, 174]\n",
    "data = data.drop(index=rows_to_drop)\n",
    "\n",
    "# Filtering kolom yang akan digunakan (kode provinsi, tahun, dan kolom _T)\n",
    "columns_to_keep = ['TAHUN'] + ['KODE_PROVINSI'] + [col for col in data.columns if '_T' in col]\n",
    "data_T = data[columns_to_keep]\n",
    "data_T['TAHUN'] = pd.to_numeric(data_T['TAHUN'], errors='coerce')\n",
    "\n",
    "# data_T.head()"
   ]
  },
  {
   "cell_type": "markdown",
   "metadata": {},
   "source": [
    "Sesuai catatan sebelumnya, model akan mengguakan data kategori (T). Lalu kolom tahun tetap digunakan untuk memproses data secara historis."
   ]
  },
  {
   "cell_type": "markdown",
   "metadata": {},
   "source": [
    "## **3. Filtering Data**\n",
    "\n",
    "Filtering bagian data yang akan digunakan dalam model regresi linear. Tentukan mana variabel bebas dan terikat."
   ]
  },
  {
   "cell_type": "code",
   "execution_count": 250,
   "metadata": {},
   "outputs": [],
   "source": [
    "# Variabel dependen\n",
    "Y_T = data_T[\"TOTAL_OPUT_T\"]\n",
    "\n",
    "X_T = ['TAHUN'] + [col for col in data_T.columns if '_T' in col and col != \"TOTAL_OPUT_T\"]\n",
    "X_T = data_T[X_T]"
   ]
  },
  {
   "cell_type": "code",
   "execution_count": 251,
   "metadata": {},
   "outputs": [
    {
     "name": "stdout",
     "output_type": "stream",
     "text": [
      "     TAHUN  PENGGEREK_BATANG_PADI_T    WBC_T  TIKUS_T   BLAS_T  KRESEK_T   \n",
      "0     2018                  2818.70  2663.48  2722.45  1409.00   2738.00  \\\n",
      "1     2018                  1799.00   478.56  2030.15  3042.95   1831.50   \n",
      "2     2018                   116.15   430.70  2044.21   465.01     31.25   \n",
      "3     2018                   952.90   435.35   658.25   485.65    117.55   \n",
      "4     2018                   345.98    70.40   448.36   169.23     61.49   \n",
      "..     ...                      ...      ...      ...      ...       ...   \n",
      "169   2022                  2027.76    37.45   995.96   356.16    826.90   \n",
      "170   2022                  1422.75   203.50   295.00    48.00     26.75   \n",
      "171   2022                   282.80     9.00   151.50     8.50      0.00   \n",
      "172   2022                   645.70   229.80    34.40    48.50     61.00   \n",
      "173   2022                   259.40     9.00    18.25   333.90    626.50   \n",
      "\n",
      "     TUNGRO_T  KR_KH_T  \n",
      "0        0.00     0.00  \n",
      "1       35.10    68.40  \n",
      "2      104.85    57.45  \n",
      "3       25.00     0.00  \n",
      "4        4.41     0.00  \n",
      "..        ...      ...  \n",
      "169     39.50     0.00  \n",
      "170      5.50     0.00  \n",
      "171     13.40     0.00  \n",
      "172      0.00     0.00  \n",
      "173   1179.25     0.00  \n",
      "\n",
      "[170 rows x 8 columns]\n",
      "(170, 8)\n"
     ]
    }
   ],
   "source": [
    "print(X_T)\n",
    "print(X_T.shape) # Berisi seluruh jenis hama + kolom tahun untuk data trend historis"
   ]
  },
  {
   "cell_type": "code",
   "execution_count": 252,
   "metadata": {},
   "outputs": [
    {
     "name": "stdout",
     "output_type": "stream",
     "text": [
      "0      12351.63\n",
      "1       9285.66\n",
      "2       3249.62\n",
      "3       2674.70\n",
      "4       1099.87\n",
      "         ...   \n",
      "169     4283.73\n",
      "170     2001.50\n",
      "171      465.20\n",
      "172     1019.40\n",
      "173     2426.30\n",
      "Name: TOTAL_OPUT_T, Length: 170, dtype: float64\n",
      "(170,)\n"
     ]
    }
   ],
   "source": [
    "print(Y_T)\n",
    "print(Y_T.shape)"
   ]
  },
  {
   "cell_type": "markdown",
   "metadata": {},
   "source": [
    "## **4.1. Perhitungan Regresi Linear (LEAST SQUARE)**"
   ]
  },
  {
   "cell_type": "code",
   "execution_count": 253,
   "metadata": {},
   "outputs": [],
   "source": [
    "X_T = X_T.values\n",
    "Y_T = Y_T.values.reshape(-1, 1)"
   ]
  },
  {
   "cell_type": "markdown",
   "metadata": {},
   "source": [
    "#### 4.1.1. Train Test Split"
   ]
  },
  {
   "cell_type": "code",
   "execution_count": 254,
   "metadata": {},
   "outputs": [],
   "source": [
    "X_train_T, X_test_T, Y_train_T, Y_test_T = train_test_split(X_T, Y_T, test_size=0.2, random_state=42)"
   ]
  },
  {
   "cell_type": "code",
   "execution_count": 255,
   "metadata": {},
   "outputs": [
    {
     "name": "stdout",
     "output_type": "stream",
     "text": [
      "Shape data latih sumbu X (Variabel Independen) : (136, 8)\n",
      "Shape data latih sumbu Y (Variabel dependen) : (136, 1)\n",
      "\n",
      "============================================================\n",
      "\n",
      "Shape data uji sumbu X (Variabel Independen) : (34, 8)\n",
      "Shape data uji sumbu Y (Variabel dependen) : (34, 1)\n"
     ]
    }
   ],
   "source": [
    "print(f\"Shape data latih sumbu X (Variabel Independen) : {X_train_T.shape}\")\n",
    "print(f\"Shape data latih sumbu Y (Variabel dependen) : {Y_train_T.shape}\")\n",
    "print(\"\\n============================================================\\n\")\n",
    "print(f\"Shape data uji sumbu X (Variabel Independen) : {X_test_T.shape}\")\n",
    "print(f\"Shape data uji sumbu Y (Variabel dependen) : {Y_test_T.shape}\")"
   ]
  },
  {
   "cell_type": "markdown",
   "metadata": {},
   "source": [
    "#### 4.1.2. Model Regresi Linear"
   ]
  },
  {
   "cell_type": "code",
   "execution_count": 256,
   "metadata": {},
   "outputs": [],
   "source": [
    "# Menambahkan variabel tambahan sebagai intercept/konstanta sesuai pada rumus regresi linear\n",
    "X_train_T_intercept = np.hstack((np.ones((X_train_T.shape[0], 1)), X_train_T))\n",
    "X_test_T_intercept = np.hstack((np.ones((X_test_T.shape[0], 1)), X_test_T))"
   ]
  },
  {
   "cell_type": "code",
   "execution_count": 257,
   "metadata": {},
   "outputs": [],
   "source": [
    "# Cari nllai transpose dari matriks X\n",
    "X_transpose = X_train_T_intercept.T\n",
    "\n",
    "# print(X_transpose)\n",
    "# print(X_transpose.shape)"
   ]
  },
  {
   "cell_type": "code",
   "execution_count": 258,
   "metadata": {},
   "outputs": [],
   "source": [
    "# Kalikan Matriks Transpose X dengan Matriks X itu sendiri\n",
    "multiplication_X = X_transpose @ X_train_T_intercept\n",
    "\n",
    "# print(multiplication_X)\n",
    "# print(multiplication_X.shape)"
   ]
  },
  {
   "cell_type": "code",
   "execution_count": 259,
   "metadata": {},
   "outputs": [],
   "source": [
    "# Cari invers dari perkalian matriks sebelumnya\n",
    "inversed_multiplication_X = np.linalg.inv(multiplication_X)\n",
    "\n",
    "# print(inversed_multiplication_X)\n",
    "# print(inversed_multiplication_X.shape)"
   ]
  },
  {
   "cell_type": "code",
   "execution_count": 260,
   "metadata": {},
   "outputs": [
    {
     "name": "stdout",
     "output_type": "stream",
     "text": [
      "[[1.27458887e+06]\n",
      " [2.57477141e+09]\n",
      " [1.02898124e+10]\n",
      " [6.87532541e+09]\n",
      " [8.99224270e+09]\n",
      " [5.34147030e+09]\n",
      " [6.07997439e+09]\n",
      " [3.60742270e+08]\n",
      " [1.94042724e+08]]\n",
      "(9, 1)\n"
     ]
    }
   ],
   "source": [
    "# Kalikan matriks transpose X dengan matriks output Y_T\n",
    "multiplication_Y = X_transpose @ Y_train_T\n",
    "\n",
    "print(multiplication_Y)\n",
    "print(multiplication_Y.shape)"
   ]
  },
  {
   "cell_type": "code",
   "execution_count": 261,
   "metadata": {},
   "outputs": [],
   "source": [
    "# Kalikan semua nilai tadi untuk memperoleh nilai koefisien untuk masing - masing variabel independen serta konstanta\n",
    "coefficient = inversed_multiplication_X @ multiplication_Y"
   ]
  },
  {
   "cell_type": "code",
   "execution_count": 262,
   "metadata": {},
   "outputs": [
    {
     "name": "stdout",
     "output_type": "stream",
     "text": [
      "[[-2.00988323e-05]\n",
      " [ 9.37036082e-09]\n",
      " [ 1.00000000e+00]\n",
      " [ 1.00000000e+00]\n",
      " [ 1.00000000e+00]\n",
      " [ 1.00000000e+00]\n",
      " [ 1.00000000e+00]\n",
      " [ 1.00000000e+00]\n",
      " [ 1.00000000e+00]]\n",
      "(9, 1)\n"
     ]
    }
   ],
   "source": [
    "print(coefficient)\n",
    "print(coefficient.shape)"
   ]
  },
  {
   "cell_type": "code",
   "execution_count": 263,
   "metadata": {},
   "outputs": [],
   "source": [
    "# Prediksi Data Uji Menggunakan Koefisien Yang Diperoleh\n",
    "Y_pred = X_test_T_intercept @ coefficient"
   ]
  },
  {
   "cell_type": "markdown",
   "metadata": {},
   "source": [
    "#### 4.1.3. Evaluasi Model"
   ]
  },
  {
   "cell_type": "code",
   "execution_count": 264,
   "metadata": {},
   "outputs": [],
   "source": [
    "mse = mean_squared_error(Y_test_T, Y_pred)\n",
    "rmse = np.sqrt(mse)\n",
    "r2 = r2_score(Y_test_T, Y_pred)"
   ]
  },
  {
   "cell_type": "code",
   "execution_count": 265,
   "metadata": {},
   "outputs": [
    {
     "name": "stdout",
     "output_type": "stream",
     "text": [
      "\n",
      "Evaluasi Model:\n",
      "Mean Squared Error (MSE): 1.3774707031982975e-12\n",
      "Root Mean Squared Error (RMSE): 1.1736569785070497e-06\n",
      "R-Squared (R²): 1.0\n",
      "\n",
      "Perbandingan Y aktual vs Y prediksi:\n",
      "Y aktual: 2599.311, Y prediksi: 2599.3109988485044\n",
      "Y aktual: 1685.6, Y prediksi: 1685.599998810462\n",
      "Y aktual: 7750.799999999999, Y prediksi: 7750.799998835563\n",
      "Y aktual: 9727.28, Y prediksi: 9727.279998807346\n",
      "Y aktual: 363.45, Y prediksi: 363.4499988483011\n",
      "Y aktual: 16403.0, Y prediksi: 16402.999998850042\n",
      "Y aktual: 2001.5, Y prediksi: 2001.499998847893\n",
      "Y aktual: 3290.63, Y prediksi: 3290.6299988194946\n",
      "Y aktual: 3686.2499999999973, Y prediksi: 3686.2499988393984\n",
      "Y aktual: 10700.970000000001, Y prediksi: 10700.969998821922\n",
      "Y aktual: 11845.215000000002, Y prediksi: 11845.214998808793\n",
      "Y aktual: 5237.34, Y prediksi: 5237.339998849027\n",
      "Y aktual: 1907.77, Y prediksi: 1907.7699988352433\n",
      "Y aktual: 49154.0, Y prediksi: 49153.999998818246\n",
      "Y aktual: 9350.89, Y prediksi: 9350.889998825443\n",
      "Y aktual: 6952.469999999997, Y prediksi: 6952.4699988287775\n",
      "Y aktual: 2858.0499999999997, Y prediksi: 2858.049998809923\n",
      "Y aktual: 27514.699, Y prediksi: 27514.698998835436\n",
      "Y aktual: 38672.884999999995, Y prediksi: 38672.88499882874\n",
      "Y aktual: 3663.45, Y prediksi: 3663.449998839207\n",
      "Y aktual: 5742.814999999999, Y prediksi: 5742.81499881249\n",
      "Y aktual: 3164.7499999999995, Y prediksi: 3164.7499988100963\n",
      "Y aktual: 1086.5, Y prediksi: 1086.4999988100594\n",
      "Y aktual: 5059.29, Y prediksi: 5059.289998809683\n",
      "Y aktual: 50098.88500000001, Y prediksi: 50098.884998800655\n",
      "Y aktual: 0.0, Y prediksi: -1.1894441242878883e-06\n",
      "Y aktual: 50581.968, Y prediksi: 50581.96799883365\n",
      "Y aktual: 4795.3499999999985, Y prediksi: 4795.349998829408\n",
      "Y aktual: 1516.5699999999995, Y prediksi: 1516.5699988307283\n",
      "Y aktual: 1073.5899999999995, Y prediksi: 1073.589998818473\n",
      "Y aktual: 1490.48, Y prediksi: 1490.4799988212376\n",
      "Y aktual: 5460.6, Y prediksi: 5460.5999988207905\n",
      "Y aktual: 19633.43138888889, Y prediksi: 19633.431387733282\n",
      "Y aktual: 0.0, Y prediksi: -1.1613330418359827e-06\n"
     ]
    }
   ],
   "source": [
    "print(\"\\nEvaluasi Model:\")\n",
    "print(f\"Mean Squared Error (MSE): {mse}\")\n",
    "print(f\"Root Mean Squared Error (RMSE): {rmse}\")\n",
    "print(f\"R-Squared (R²): {r2}\")\n",
    "\n",
    "# Menampilkan hasil prediksi dan nilai aktual\n",
    "print(\"\\nPerbandingan Y aktual vs Y prediksi:\")\n",
    "for actual, pred in zip(Y_test_T, Y_pred):\n",
    "    print(f\"Y aktual: {actual[0]}, Y prediksi: {pred[0]}\")"
   ]
  },
  {
   "cell_type": "markdown",
   "metadata": {},
   "source": [
    "## **4.2. Perhitungan Regresi Linear (GAUSS ELIMINATION)**\n",
    "\n",
    "#### 4.2.1. Function Eliminasi Gauss\n",
    "\n"
   ]
  },
  {
   "cell_type": "code",
   "execution_count": 266,
   "metadata": {},
   "outputs": [],
   "source": [
    "# Function Eliminasi Gauss\n",
    "def gauss_elimination(A, b):\n",
    "    n = len(b)\n",
    "    for i in range(n):\n",
    "        # Partial pivoting\n",
    "        max_row = max(range(i, n), key=lambda x: abs(A[x][i]))\n",
    "        A[[i, max_row]] = A[[max_row, i]]\n",
    "        b[[i, max_row]] = b[[max_row, i]]\n",
    "        \n",
    "        # Matriks Segitiga Atas\n",
    "        for j in range(i + 1, n):\n",
    "            factor = A[j][i] / A[i][i]\n",
    "            A[j, i:] -= factor * A[i, i:]\n",
    "            b[j] -= factor * b[i]\n",
    "\n",
    "    x = np.zeros(n)\n",
    "    for i in range(n - 1, -1, -1):\n",
    "        x[i] = (b[i] - np.dot(A[i, i + 1:], x[i + 1:])) / A[i][i]\n",
    "    return x"
   ]
  },
  {
   "cell_type": "markdown",
   "metadata": {},
   "source": [
    "#### 4.2.2. Aplikasi Function Gauss Pada Data"
   ]
  },
  {
   "cell_type": "code",
   "execution_count": 267,
   "metadata": {},
   "outputs": [],
   "source": [
    "A = X_train_T_intercept.T @ X_train_T_intercept\n",
    "b = X_train_T_intercept.T @ Y_train_T"
   ]
  },
  {
   "cell_type": "code",
   "execution_count": 268,
   "metadata": {},
   "outputs": [
    {
     "name": "stdout",
     "output_type": "stream",
     "text": [
      "[-1.25620905e-05  6.21871519e-09  1.00000000e+00  1.00000000e+00\n",
      "  1.00000000e+00  1.00000000e+00  1.00000000e+00  1.00000000e+00\n",
      "  1.00000000e+00]\n"
     ]
    }
   ],
   "source": [
    "coefficient_gauss = gauss_elimination(A.copy(), b.copy())\n",
    "print(coefficient_gauss)"
   ]
  },
  {
   "cell_type": "markdown",
   "metadata": {},
   "source": [
    "#### 4.2.3 Evaluasi Model"
   ]
  },
  {
   "cell_type": "code",
   "execution_count": 269,
   "metadata": {},
   "outputs": [],
   "source": [
    "Y_pred_gauss = X_test_T_intercept @ coefficient_gauss"
   ]
  },
  {
   "cell_type": "code",
   "execution_count": 270,
   "metadata": {},
   "outputs": [],
   "source": [
    "if Y_pred_gauss.ndim == 1:\n",
    "    Y_pred_gauss = Y_pred_gauss.reshape(-1, 1)\n",
    "\n",
    "if Y_test_T.ndim == 1:\n",
    "    Y_test_T = Y_test_T.reshape(-1, 1)\n"
   ]
  },
  {
   "cell_type": "code",
   "execution_count": 271,
   "metadata": {},
   "outputs": [],
   "source": [
    "# Evaluasi Model \n",
    "mse = mean_squared_error(Y_test_T, Y_pred_gauss)\n",
    "rmse = np.sqrt(mse)\n",
    "r2 = r2_score(Y_test_T, Y_pred_gauss)"
   ]
  },
  {
   "cell_type": "code",
   "execution_count": 272,
   "metadata": {},
   "outputs": [
    {
     "name": "stdout",
     "output_type": "stream",
     "text": [
      "\n",
      "Evaluasi Model:\n",
      "Mean Squared Error (MSE): 9.084364441806396e-17\n",
      "Root Mean Squared Error (RMSE): 9.531193231598233e-09\n",
      "R-Squared (R²): 1.0\n",
      "\n",
      "Perbandingan Y aktual vs Y prediksi:\n",
      "Y aktual: 2599.311, Y prediksi: 2599.3110000125344\n",
      "Y aktual: 1685.6, Y prediksi: 1685.599999987227\n",
      "Y aktual: 7750.799999999999, Y prediksi: 7750.800000004956\n",
      "Y aktual: 9727.28, Y prediksi: 9727.279999985787\n",
      "Y aktual: 363.45, Y prediksi: 363.4500000123312\n",
      "Y aktual: 16403.0, Y prediksi: 16403.000000012904\n",
      "Y aktual: 2001.5, Y prediksi: 2001.500000012062\n",
      "Y aktual: 3290.63, Y prediksi: 3290.6299999936136\n",
      "Y aktual: 3686.2499999999973, Y prediksi: 3686.250000006453\n",
      "Y aktual: 10700.970000000001, Y prediksi: 10700.969999994564\n",
      "Y aktual: 11845.215000000002, Y prediksi: 11845.214999987136\n",
      "Y aktual: 5237.34, Y prediksi: 5237.340000012898\n",
      "Y aktual: 1907.77, Y prediksi: 1907.7700000043835\n",
      "Y aktual: 49154.0, Y prediksi: 49153.99999999527\n",
      "Y aktual: 9350.89, Y prediksi: 9350.889999998313\n",
      "Y aktual: 6952.469999999997, Y prediksi: 6952.470000000358\n",
      "Y aktual: 2858.0499999999997, Y prediksi: 2858.0499999869535\n",
      "Y aktual: 27514.699, Y prediksi: 27514.699000005283\n",
      "Y aktual: 38672.884999999995, Y prediksi: 38672.88500000101\n",
      "Y aktual: 3663.45, Y prediksi: 3663.450000006325\n",
      "Y aktual: 5742.814999999999, Y prediksi: 5742.8149999886955\n",
      "Y aktual: 3164.7499999999995, Y prediksi: 3164.749999987413\n",
      "Y aktual: 1086.5, Y prediksi: 1086.4999999870213\n",
      "Y aktual: 5059.29, Y prediksi: 5059.289999986874\n",
      "Y aktual: 50098.88500000001, Y prediksi: 50098.884999984046\n",
      "Y aktual: 0.0, Y prediksi: -1.2723281892851462e-08\n",
      "Y aktual: 50581.968, Y prediksi: 50581.96800000396\n",
      "Y aktual: 4795.3499999999985, Y prediksi: 4795.3499999999\n",
      "Y aktual: 1516.5699999999995, Y prediksi: 1516.5700000007114\n",
      "Y aktual: 1073.5899999999995, Y prediksi: 1073.5899999928392\n",
      "Y aktual: 1490.48, Y prediksi: 1490.4799999943596\n",
      "Y aktual: 5460.6, Y prediksi: 5460.5999999941405\n",
      "Y aktual: 19633.43138888889, Y prediksi: 19633.431388900626\n",
      "Y aktual: 0.0, Y prediksi: 5.932863679625048e-09\n"
     ]
    }
   ],
   "source": [
    "print(\"\\nEvaluasi Model:\")\n",
    "print(f\"Mean Squared Error (MSE): {mse}\")\n",
    "print(f\"Root Mean Squared Error (RMSE): {rmse}\")\n",
    "print(f\"R-Squared (R²): {r2}\")\n",
    "\n",
    "# Menampilkan hasil prediksi dan nilai aktual\n",
    "print(\"\\nPerbandingan Y aktual vs Y prediksi:\")\n",
    "for actual, pred in zip(Y_test_T, Y_pred_gauss):\n",
    "    print(f\"Y aktual: {actual[0]}, Y prediksi: {pred[0]}\")\n"
   ]
  },
  {
   "cell_type": "markdown",
   "metadata": {},
   "source": [
    "# **LIBRARY**\n",
    "\n",
    "Selain perhitungan manual berikut juga disertakan perhitungan koefisien regresi dengan bantuan library scikit-learn "
   ]
  },
  {
   "cell_type": "code",
   "execution_count": 273,
   "metadata": {},
   "outputs": [],
   "source": [
    "from sklearn.model_selection import train_test_split\n",
    "from sklearn.linear_model import LinearRegression\n",
    "from sklearn.metrics import mean_squared_error, r2_score\n",
    "from sklearn.preprocessing import OneHotEncoder\n",
    "from sklearn.model_selection import cross_val_score, KFold"
   ]
  },
  {
   "cell_type": "code",
   "execution_count": 274,
   "metadata": {},
   "outputs": [],
   "source": [
    "X_train_T, X_test_T, y_train_t, y_test_t = train_test_split(X_T, Y_T, test_size=0.2, random_state=42)"
   ]
  },
  {
   "cell_type": "code",
   "execution_count": 275,
   "metadata": {},
   "outputs": [
    {
     "data": {
      "text/html": [
       "<style>#sk-container-id-2 {color: black;background-color: white;}#sk-container-id-2 pre{padding: 0;}#sk-container-id-2 div.sk-toggleable {background-color: white;}#sk-container-id-2 label.sk-toggleable__label {cursor: pointer;display: block;width: 100%;margin-bottom: 0;padding: 0.3em;box-sizing: border-box;text-align: center;}#sk-container-id-2 label.sk-toggleable__label-arrow:before {content: \"▸\";float: left;margin-right: 0.25em;color: #696969;}#sk-container-id-2 label.sk-toggleable__label-arrow:hover:before {color: black;}#sk-container-id-2 div.sk-estimator:hover label.sk-toggleable__label-arrow:before {color: black;}#sk-container-id-2 div.sk-toggleable__content {max-height: 0;max-width: 0;overflow: hidden;text-align: left;background-color: #f0f8ff;}#sk-container-id-2 div.sk-toggleable__content pre {margin: 0.2em;color: black;border-radius: 0.25em;background-color: #f0f8ff;}#sk-container-id-2 input.sk-toggleable__control:checked~div.sk-toggleable__content {max-height: 200px;max-width: 100%;overflow: auto;}#sk-container-id-2 input.sk-toggleable__control:checked~label.sk-toggleable__label-arrow:before {content: \"▾\";}#sk-container-id-2 div.sk-estimator input.sk-toggleable__control:checked~label.sk-toggleable__label {background-color: #d4ebff;}#sk-container-id-2 div.sk-label input.sk-toggleable__control:checked~label.sk-toggleable__label {background-color: #d4ebff;}#sk-container-id-2 input.sk-hidden--visually {border: 0;clip: rect(1px 1px 1px 1px);clip: rect(1px, 1px, 1px, 1px);height: 1px;margin: -1px;overflow: hidden;padding: 0;position: absolute;width: 1px;}#sk-container-id-2 div.sk-estimator {font-family: monospace;background-color: #f0f8ff;border: 1px dotted black;border-radius: 0.25em;box-sizing: border-box;margin-bottom: 0.5em;}#sk-container-id-2 div.sk-estimator:hover {background-color: #d4ebff;}#sk-container-id-2 div.sk-parallel-item::after {content: \"\";width: 100%;border-bottom: 1px solid gray;flex-grow: 1;}#sk-container-id-2 div.sk-label:hover label.sk-toggleable__label {background-color: #d4ebff;}#sk-container-id-2 div.sk-serial::before {content: \"\";position: absolute;border-left: 1px solid gray;box-sizing: border-box;top: 0;bottom: 0;left: 50%;z-index: 0;}#sk-container-id-2 div.sk-serial {display: flex;flex-direction: column;align-items: center;background-color: white;padding-right: 0.2em;padding-left: 0.2em;position: relative;}#sk-container-id-2 div.sk-item {position: relative;z-index: 1;}#sk-container-id-2 div.sk-parallel {display: flex;align-items: stretch;justify-content: center;background-color: white;position: relative;}#sk-container-id-2 div.sk-item::before, #sk-container-id-2 div.sk-parallel-item::before {content: \"\";position: absolute;border-left: 1px solid gray;box-sizing: border-box;top: 0;bottom: 0;left: 50%;z-index: -1;}#sk-container-id-2 div.sk-parallel-item {display: flex;flex-direction: column;z-index: 1;position: relative;background-color: white;}#sk-container-id-2 div.sk-parallel-item:first-child::after {align-self: flex-end;width: 50%;}#sk-container-id-2 div.sk-parallel-item:last-child::after {align-self: flex-start;width: 50%;}#sk-container-id-2 div.sk-parallel-item:only-child::after {width: 0;}#sk-container-id-2 div.sk-dashed-wrapped {border: 1px dashed gray;margin: 0 0.4em 0.5em 0.4em;box-sizing: border-box;padding-bottom: 0.4em;background-color: white;}#sk-container-id-2 div.sk-label label {font-family: monospace;font-weight: bold;display: inline-block;line-height: 1.2em;}#sk-container-id-2 div.sk-label-container {text-align: center;}#sk-container-id-2 div.sk-container {/* jupyter's `normalize.less` sets `[hidden] { display: none; }` but bootstrap.min.css set `[hidden] { display: none !important; }` so we also need the `!important` here to be able to override the default hidden behavior on the sphinx rendered scikit-learn.org. See: https://github.com/scikit-learn/scikit-learn/issues/21755 */display: inline-block !important;position: relative;}#sk-container-id-2 div.sk-text-repr-fallback {display: none;}</style><div id=\"sk-container-id-2\" class=\"sk-top-container\"><div class=\"sk-text-repr-fallback\"><pre>LinearRegression()</pre><b>In a Jupyter environment, please rerun this cell to show the HTML representation or trust the notebook. <br />On GitHub, the HTML representation is unable to render, please try loading this page with nbviewer.org.</b></div><div class=\"sk-container\" hidden><div class=\"sk-item\"><div class=\"sk-estimator sk-toggleable\"><input class=\"sk-toggleable__control sk-hidden--visually\" id=\"sk-estimator-id-2\" type=\"checkbox\" checked><label for=\"sk-estimator-id-2\" class=\"sk-toggleable__label sk-toggleable__label-arrow\">LinearRegression</label><div class=\"sk-toggleable__content\"><pre>LinearRegression()</pre></div></div></div></div></div>"
      ],
      "text/plain": [
       "LinearRegression()"
      ]
     },
     "execution_count": 275,
     "metadata": {},
     "output_type": "execute_result"
    }
   ],
   "source": [
    "# Inisialisasi Model & Latih Model \n",
    "model_t = LinearRegression()\n",
    "model_t.fit(X_train_T, y_train_t)"
   ]
  },
  {
   "cell_type": "code",
   "execution_count": 276,
   "metadata": {},
   "outputs": [
    {
     "name": "stdout",
     "output_type": "stream",
     "text": [
      "Intercept untuk TOTAL_T: [8.31278157e-10]\n",
      "Koefisien untuk TOTAL_T: [[-4.10918687e-13  1.00000000e+00  1.00000000e+00  1.00000000e+00\n",
      "   1.00000000e+00  1.00000000e+00  1.00000000e+00  1.00000000e+00]]\n"
     ]
    }
   ],
   "source": [
    "# Nilai intercept untuk model TOTAL_T\n",
    "intercept_t = model_t.intercept_\n",
    "coefficients_t = model_t.coef_\n",
    "\n",
    "print(\"Intercept untuk TOTAL_T:\", intercept_t)\n",
    "print(\"Koefisien untuk TOTAL_T:\", coefficients_t)\n"
   ]
  },
  {
   "cell_type": "code",
   "execution_count": 277,
   "metadata": {},
   "outputs": [
    {
     "name": "stdout",
     "output_type": "stream",
     "text": [
      "== Model Performance for TOTAL_OPUT_T ==\n",
      "MSE: 0.00, \n",
      "R2: 1.00\n"
     ]
    }
   ],
   "source": [
    "y_pred_t = model_t.predict(X_test_T)\n",
    "\n",
    "# Evaluate for Total_T\n",
    "print(\"== Model Performance for TOTAL_OPUT_T ==\")\n",
    "print(f\"MSE: {mean_squared_error(y_test_t, y_pred_t):.2f}, \\nR2: {r2_score(y_test_t, y_pred_t):.2f}\")\n",
    "\n"
   ]
  },
  {
   "cell_type": "code",
   "execution_count": 278,
   "metadata": {},
   "outputs": [],
   "source": [
    "# Function to preprocess the data from the selected sheet\n",
    "def preprocess_data(dataset, sheet_name):\n",
    "    # Load the data for the selected plant type\n",
    "    data = pd.read_excel(dataset, sheet_name=sheet_name, header=[0, 1])\n",
    "    data.columns = [\" \".join(col).strip() for col in data.columns.values]\n",
    "    data.columns = (\n",
    "        data.columns.str.strip()\n",
    "        .str.replace(\" \", \"_\")\n",
    "        .str.replace(\"/\", \"_\")\n",
    "        .str.replace(\"-\", \"_\")\n",
    "    )\n",
    "    data.rename(\n",
    "        columns={\n",
    "            \"TAHUN_Unnamed:_0_level_1\": \"TAHUN\",\n",
    "            \"NO_PROV_Unnamed:_1_level_1\": \"KODE_PROVINSI\",\n",
    "            \"PROV_Unnamed:_2_level_1\": \"PROVINSI\",\n",
    "        },\n",
    "        inplace=True,\n",
    "    )\n",
    "    data.fillna(0, inplace=True)\n",
    "    return data"
   ]
  }
 ],
 "metadata": {
  "kernelspec": {
   "display_name": "Python 3",
   "language": "python",
   "name": "python3"
  },
  "language_info": {
   "codemirror_mode": {
    "name": "ipython",
    "version": 3
   },
   "file_extension": ".py",
   "mimetype": "text/x-python",
   "name": "python",
   "nbconvert_exporter": "python",
   "pygments_lexer": "ipython3",
   "version": "3.11.2"
  }
 },
 "nbformat": 4,
 "nbformat_minor": 2
}
